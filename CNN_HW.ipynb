{
  "nbformat": 4,
  "nbformat_minor": 0,
  "metadata": {
    "colab": {
      "name": "CNN_HW.ipynb",
      "version": "0.3.2",
      "provenance": [],
      "collapsed_sections": []
    },
    "kernelspec": {
      "name": "python3",
      "display_name": "Python 3"
    }
  },
  "cells": [
    {
      "cell_type": "markdown",
      "metadata": {
        "id": "B8FHfUgw3rLe",
        "colab_type": "text"
      },
      "source": [
        "### CNN圖像辨識\n"
      ]
    },
    {
      "cell_type": "code",
      "metadata": {
        "id": "Nm1_uZsb3iQq",
        "colab_type": "code",
        "colab": {}
      },
      "source": [
        "%matplotlib inline\n",
        "import matplotlib.pyplot as plt\n",
        "import numpy as np\n",
        "import pandas as pd\n",
        "\n",
        "#keras function\n",
        "from keras.datasets import mnist\n",
        "from keras.utils import np_utils\n",
        "from keras.models import Sequential, Model, Input\n",
        "from keras.layers import Dense, Activation, Flatten\n",
        "from keras.layers import Conv2D, MaxPool2D\n",
        "from keras.optimizers import SGD, Adadelta\n"
      ],
      "execution_count": 0,
      "outputs": []
    },
    {
      "cell_type": "code",
      "metadata": {
        "id": "y9VpTKp13vTT",
        "colab_type": "code",
        "colab": {}
      },
      "source": [
        "(x_train0, y_train0), (x_test0, y_test0) = mnist.load_data()"
      ],
      "execution_count": 0,
      "outputs": []
    },
    {
      "cell_type": "code",
      "metadata": {
        "id": "CFEX2s_m4JQK",
        "colab_type": "code",
        "colab": {}
      },
      "source": [
        "x_train_cnn = x_train0.reshape(60000,28, 28, 1)\n",
        "x_test_cnn = x_test0.reshape(10000,28, 28, 1)"
      ],
      "execution_count": 0,
      "outputs": []
    },
    {
      "cell_type": "code",
      "metadata": {
        "id": "RY0fbfwC4VwN",
        "colab_type": "code",
        "colab": {}
      },
      "source": [
        "y_train = np_utils.to_categorical(y_train0, 10)\n",
        "y_test = np_utils.to_categorical(y_test0, 10)"
      ],
      "execution_count": 0,
      "outputs": []
    },
    {
      "cell_type": "code",
      "metadata": {
        "id": "-azHGAYY4f9Y",
        "colab_type": "code",
        "colab": {}
      },
      "source": [
        "x_train_cnn = x_train_cnn / 256\n",
        "x_test_cnn = x_test_cnn / 256"
      ],
      "execution_count": 0,
      "outputs": []
    },
    {
      "cell_type": "code",
      "metadata": {
        "id": "3_fq7ZRu4it5",
        "colab_type": "code",
        "colab": {}
      },
      "source": [
        "model = Sequential()"
      ],
      "execution_count": 0,
      "outputs": []
    },
    {
      "cell_type": "code",
      "metadata": {
        "id": "cfbrMQkz46x3",
        "colab_type": "code",
        "colab": {}
      },
      "source": [
        "\n",
        "conv_1 = Conv2D(8, (5, 5), padding = \"same\", input_shape = (28, 28, 1), activation = \"relu\")\n",
        "maxPool_1 = MaxPool2D(pool_size = (2, 2))\n",
        "\n",
        "\n",
        "conv_2 = Conv2D(16, (5, 5), padding = \"same\", input_shape = (28, 28, 1), activation = \"relu\")\n",
        "maxPool_2 = MaxPool2D(pool_size = (2, 2))\n",
        "\n",
        "\n",
        "conv_3 = Conv2D(32, (5, 5), padding = 'same', input_shape = (28, 28, 1), activation = 'relu')\n",
        "maxPool_3 = MaxPool2D(pool_size = (2, 2))\n"
      ],
      "execution_count": 0,
      "outputs": []
    },
    {
      "cell_type": "code",
      "metadata": {
        "id": "vBCoFRRC7m2Y",
        "colab_type": "code",
        "colab": {}
      },
      "source": [
        "#flatten layer\n",
        "flat_test = Flatten()\n",
        "\n",
        "#dense layer\n",
        "d_test = Dense(20, activation='relu')\n",
        "\n",
        "#output layer\n",
        "op_test = Dense(10, activation='softmax')\n"
      ],
      "execution_count": 0,
      "outputs": []
    },
    {
      "cell_type": "code",
      "metadata": {
        "id": "9pTC6U6U8B4U",
        "colab_type": "code",
        "colab": {}
      },
      "source": [
        "#Input\n",
        "x = Input(shape = (28, 28, 1))\n",
        "\n",
        "#convolution\n",
        "c_1 = conv_1(x)\n",
        "m_1 = maxPool_1(c_1)\n",
        "c_2 = conv_2(m_1)\n",
        "m_2 = maxPool_2(c_2)\n",
        "c_3 = conv_3(m_2)\n",
        "m_3 = maxPool_3(c_3)\n",
        "\n",
        "#flatten, dense, output\n",
        "flattened = flat_test(m_3)\n",
        "h1 = d_test(flattened)\n",
        "y = op_test(h1)\n",
        "\n",
        "model = Model(x, y)"
      ],
      "execution_count": 0,
      "outputs": []
    },
    {
      "cell_type": "code",
      "metadata": {
        "id": "0V4Ha-lH8You",
        "colab_type": "code",
        "colab": {}
      },
      "source": [
        "model.compile(loss = 'mse',optimizer = Adadelta(),metrics = ['acc'])"
      ],
      "execution_count": 0,
      "outputs": []
    },
    {
      "cell_type": "code",
      "metadata": {
        "id": "ImRQvwCs7ETH",
        "colab_type": "code",
        "colab": {
          "base_uri": "https://localhost:8080/",
          "height": 476
        },
        "outputId": "0d42afd1-b4ed-4170-863d-03a6482ef3ba"
      },
      "source": [
        "model.summary()"
      ],
      "execution_count": 70,
      "outputs": [
        {
          "output_type": "stream",
          "text": [
            "_________________________________________________________________\n",
            "Layer (type)                 Output Shape              Param #   \n",
            "=================================================================\n",
            "input_5 (InputLayer)         (None, 28, 28, 1)         0         \n",
            "_________________________________________________________________\n",
            "conv2d_13 (Conv2D)           (None, 28, 28, 8)         208       \n",
            "_________________________________________________________________\n",
            "max_pooling2d_13 (MaxPooling (None, 14, 14, 8)         0         \n",
            "_________________________________________________________________\n",
            "conv2d_14 (Conv2D)           (None, 14, 14, 16)        3216      \n",
            "_________________________________________________________________\n",
            "max_pooling2d_14 (MaxPooling (None, 7, 7, 16)          0         \n",
            "_________________________________________________________________\n",
            "conv2d_15 (Conv2D)           (None, 7, 7, 32)          12832     \n",
            "_________________________________________________________________\n",
            "max_pooling2d_15 (MaxPooling (None, 3, 3, 32)          0         \n",
            "_________________________________________________________________\n",
            "flatten_8 (Flatten)          (None, 288)               0         \n",
            "_________________________________________________________________\n",
            "dense_15 (Dense)             (None, 20)                5780      \n",
            "_________________________________________________________________\n",
            "dense_16 (Dense)             (None, 10)                210       \n",
            "=================================================================\n",
            "Total params: 22,246\n",
            "Trainable params: 22,246\n",
            "Non-trainable params: 0\n",
            "_________________________________________________________________\n"
          ],
          "name": "stdout"
        }
      ]
    },
    {
      "cell_type": "code",
      "metadata": {
        "id": "6yH4BgrQ5KPK",
        "colab_type": "code",
        "colab": {
          "base_uri": "https://localhost:8080/",
          "height": 1465
        },
        "outputId": "9bcc71c8-90fa-4c89-93d7-decac5584762"
      },
      "source": [
        "model.fit(x_train_cnn, y_train, batch_size=100, epochs=40)"
      ],
      "execution_count": 71,
      "outputs": [
        {
          "output_type": "stream",
          "text": [
            "WARNING:tensorflow:From /usr/local/lib/python3.6/dist-packages/tensorflow/python/ops/math_ops.py:3066: to_int32 (from tensorflow.python.ops.math_ops) is deprecated and will be removed in a future version.\n",
            "Instructions for updating:\n",
            "Use tf.cast instead.\n",
            "Epoch 1/40\n",
            "60000/60000 [==============================] - 61s 1ms/step - loss: 0.0401 - acc: 0.6802\n",
            "Epoch 2/40\n",
            "60000/60000 [==============================] - 60s 1ms/step - loss: 0.0068 - acc: 0.9560\n",
            "Epoch 3/40\n",
            "60000/60000 [==============================] - 61s 1ms/step - loss: 0.0048 - acc: 0.9693\n",
            "Epoch 4/40\n",
            "60000/60000 [==============================] - 61s 1ms/step - loss: 0.0038 - acc: 0.9765\n",
            "Epoch 5/40\n",
            "60000/60000 [==============================] - 60s 1ms/step - loss: 0.0032 - acc: 0.9797\n",
            "Epoch 6/40\n",
            "60000/60000 [==============================] - 60s 1ms/step - loss: 0.0028 - acc: 0.9820\n",
            "Epoch 7/40\n",
            "60000/60000 [==============================] - 60s 1ms/step - loss: 0.0026 - acc: 0.9838\n",
            "Epoch 8/40\n",
            "60000/60000 [==============================] - 61s 1ms/step - loss: 0.0023 - acc: 0.9855\n",
            "Epoch 9/40\n",
            "60000/60000 [==============================] - 61s 1ms/step - loss: 0.0020 - acc: 0.9867\n",
            "Epoch 10/40\n",
            "60000/60000 [==============================] - 61s 1ms/step - loss: 0.0019 - acc: 0.9880\n",
            "Epoch 11/40\n",
            "60000/60000 [==============================] - 61s 1ms/step - loss: 0.0017 - acc: 0.9893\n",
            "Epoch 12/40\n",
            "60000/60000 [==============================] - 61s 1ms/step - loss: 0.0016 - acc: 0.9897\n",
            "Epoch 13/40\n",
            "60000/60000 [==============================] - 61s 1ms/step - loss: 0.0015 - acc: 0.9904\n",
            "Epoch 14/40\n",
            "60000/60000 [==============================] - 61s 1ms/step - loss: 0.0014 - acc: 0.9915\n",
            "Epoch 15/40\n",
            "60000/60000 [==============================] - 61s 1ms/step - loss: 0.0013 - acc: 0.9926\n",
            "Epoch 16/40\n",
            "60000/60000 [==============================] - 61s 1ms/step - loss: 0.0012 - acc: 0.9929\n",
            "Epoch 17/40\n",
            "60000/60000 [==============================] - 61s 1ms/step - loss: 0.0011 - acc: 0.9930\n",
            "Epoch 18/40\n",
            "60000/60000 [==============================] - 61s 1ms/step - loss: 0.0011 - acc: 0.9937\n",
            "Epoch 19/40\n",
            "60000/60000 [==============================] - 61s 1ms/step - loss: 9.9549e-04 - acc: 0.9940\n",
            "Epoch 20/40\n",
            "60000/60000 [==============================] - 60s 1ms/step - loss: 9.6784e-04 - acc: 0.9940\n",
            "Epoch 21/40\n",
            "60000/60000 [==============================] - 60s 1ms/step - loss: 8.5409e-04 - acc: 0.9950\n",
            "Epoch 22/40\n",
            "60000/60000 [==============================] - 60s 1ms/step - loss: 8.1864e-04 - acc: 0.9953\n",
            "Epoch 23/40\n",
            "60000/60000 [==============================] - 61s 1ms/step - loss: 7.6358e-04 - acc: 0.9954\n",
            "Epoch 24/40\n",
            "60000/60000 [==============================] - 60s 1ms/step - loss: 7.2321e-04 - acc: 0.9958\n",
            "Epoch 25/40\n",
            "60000/60000 [==============================] - 61s 1ms/step - loss: 6.8010e-04 - acc: 0.9961\n",
            "Epoch 26/40\n",
            "60000/60000 [==============================] - 60s 1ms/step - loss: 6.6249e-04 - acc: 0.9961\n",
            "Epoch 27/40\n",
            "60000/60000 [==============================] - 60s 1ms/step - loss: 6.0112e-04 - acc: 0.9965\n",
            "Epoch 28/40\n",
            "60000/60000 [==============================] - 61s 1ms/step - loss: 5.8229e-04 - acc: 0.9966\n",
            "Epoch 29/40\n",
            "60000/60000 [==============================] - 61s 1ms/step - loss: 5.5766e-04 - acc: 0.9968\n",
            "Epoch 30/40\n",
            "60000/60000 [==============================] - 61s 1ms/step - loss: 5.3430e-04 - acc: 0.9969\n",
            "Epoch 31/40\n",
            "60000/60000 [==============================] - 61s 1ms/step - loss: 5.1487e-04 - acc: 0.9971\n",
            "Epoch 32/40\n",
            "60000/60000 [==============================] - 61s 1ms/step - loss: 4.8841e-04 - acc: 0.9970\n",
            "Epoch 33/40\n",
            "60000/60000 [==============================] - 61s 1ms/step - loss: 5.1106e-04 - acc: 0.9970\n",
            "Epoch 34/40\n",
            "60000/60000 [==============================] - 61s 1ms/step - loss: 4.4392e-04 - acc: 0.9974\n",
            "Epoch 35/40\n",
            "60000/60000 [==============================] - 61s 1ms/step - loss: 4.2009e-04 - acc: 0.9977\n",
            "Epoch 36/40\n",
            "60000/60000 [==============================] - 61s 1ms/step - loss: 4.2853e-04 - acc: 0.9976\n",
            "Epoch 37/40\n",
            "60000/60000 [==============================] - 61s 1ms/step - loss: 3.7702e-04 - acc: 0.9979\n",
            "Epoch 38/40\n",
            "60000/60000 [==============================] - 61s 1ms/step - loss: 3.7381e-04 - acc: 0.9980\n",
            "Epoch 39/40\n",
            "60000/60000 [==============================] - 61s 1ms/step - loss: 3.5814e-04 - acc: 0.9981\n",
            "Epoch 40/40\n",
            "60000/60000 [==============================] - 61s 1ms/step - loss: 3.1525e-04 - acc: 0.9984\n"
          ],
          "name": "stdout"
        },
        {
          "output_type": "execute_result",
          "data": {
            "text/plain": [
              "<keras.callbacks.History at 0x7fe48c2298d0>"
            ]
          },
          "metadata": {
            "tags": []
          },
          "execution_count": 71
        }
      ]
    },
    {
      "cell_type": "code",
      "metadata": {
        "id": "Z-LPYnBRLa1M",
        "colab_type": "code",
        "colab": {
          "base_uri": "https://localhost:8080/",
          "height": 68
        },
        "outputId": "39bd418a-2766-43cd-ebab-b38a1311ea6e"
      },
      "source": [
        "score = model.evaluate(x_train_cnn, y_train)\n",
        "print(\"Loss: %f\" %score[0])\n",
        "print(\"準確率: %f\" %(score[1]))"
      ],
      "execution_count": 72,
      "outputs": [
        {
          "output_type": "stream",
          "text": [
            "60000/60000 [==============================] - 34s 561us/step\n",
            "Loss: 0.000270\n",
            "準確率: 0.998600\n"
          ],
          "name": "stdout"
        }
      ]
    }
  ]
}