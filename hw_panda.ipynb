{
 "cells": [
  {
   "cell_type": "code",
   "execution_count": 2,
   "metadata": {
    "collapsed": true
   },
   "outputs": [],
   "source": [
    "%matplotlib inline\n",
    "\n",
    "import numpy as np\n",
    "import matplotlib.pyplot as plt\n",
    "import pandas as pd"
   ]
  },
  {
   "cell_type": "code",
   "execution_count": 6,
   "metadata": {
    "collapsed": true
   },
   "outputs": [],
   "source": [
    "import matplotlib as mpl"
   ]
  },
  {
   "cell_type": "markdown",
   "metadata": {},
   "source": [
    "## 全民健康保險保險對象保險費及滯納金分期繳納按行政區分布\n",
    "資料來源：[健康保險資料開放服務](https://data.nhi.gov.tw/Datasets/DatasetDetail.aspx?id=437&Mid=A110030)"
   ]
  },
  {
   "cell_type": "code",
   "execution_count": 7,
   "metadata": {
    "collapsed": true
   },
   "outputs": [],
   "source": [
    "df = pd.read_csv('/Users/apple/Downloads/DataSetResource.csv')"
   ]
  },
  {
   "cell_type": "code",
   "execution_count": 15,
   "metadata": {},
   "outputs": [
    {
     "data": {
      "text/html": [
       "<div>\n",
       "<style>\n",
       "    .dataframe thead tr:only-child th {\n",
       "        text-align: right;\n",
       "    }\n",
       "\n",
       "    .dataframe thead th {\n",
       "        text-align: left;\n",
       "    }\n",
       "\n",
       "    .dataframe tbody tr th {\n",
       "        vertical-align: top;\n",
       "    }\n",
       "</style>\n",
       "<table border=\"1\" class=\"dataframe\">\n",
       "  <thead>\n",
       "    <tr style=\"text-align: right;\">\n",
       "      <th></th>\n",
       "      <th>縣市別</th>\n",
       "      <th>鄉鎮市區</th>\n",
       "      <th>性別</th>\n",
       "      <th>年齡級距</th>\n",
       "      <th>人數</th>\n",
       "      <th>申請金額</th>\n",
       "      <th>繳納金額</th>\n",
       "    </tr>\n",
       "  </thead>\n",
       "  <tbody>\n",
       "    <tr>\n",
       "      <th>0</th>\n",
       "      <td>宜蘭縣</td>\n",
       "      <td>三星鄉</td>\n",
       "      <td>女</td>\n",
       "      <td>20~24</td>\n",
       "      <td>3</td>\n",
       "      <td>25</td>\n",
       "      <td>10</td>\n",
       "    </tr>\n",
       "    <tr>\n",
       "      <th>1</th>\n",
       "      <td>宜蘭縣</td>\n",
       "      <td>三星鄉</td>\n",
       "      <td>男</td>\n",
       "      <td>20~24</td>\n",
       "      <td>6</td>\n",
       "      <td>128</td>\n",
       "      <td>53</td>\n",
       "    </tr>\n",
       "    <tr>\n",
       "      <th>2</th>\n",
       "      <td>宜蘭縣</td>\n",
       "      <td>三星鄉</td>\n",
       "      <td>女</td>\n",
       "      <td>25~29</td>\n",
       "      <td>16</td>\n",
       "      <td>338</td>\n",
       "      <td>176</td>\n",
       "    </tr>\n",
       "    <tr>\n",
       "      <th>3</th>\n",
       "      <td>宜蘭縣</td>\n",
       "      <td>三星鄉</td>\n",
       "      <td>男</td>\n",
       "      <td>25~29</td>\n",
       "      <td>29</td>\n",
       "      <td>506</td>\n",
       "      <td>386</td>\n",
       "    </tr>\n",
       "    <tr>\n",
       "      <th>4</th>\n",
       "      <td>宜蘭縣</td>\n",
       "      <td>三星鄉</td>\n",
       "      <td>女</td>\n",
       "      <td>30~34</td>\n",
       "      <td>30</td>\n",
       "      <td>669</td>\n",
       "      <td>523</td>\n",
       "    </tr>\n",
       "  </tbody>\n",
       "</table>\n",
       "</div>"
      ],
      "text/plain": [
       "   縣市別 鄉鎮市區 性別   年齡級距  人數  申請金額  繳納金額\n",
       "0  宜蘭縣  三星鄉  女  20~24   3    25    10\n",
       "1  宜蘭縣  三星鄉  男  20~24   6   128    53\n",
       "2  宜蘭縣  三星鄉  女  25~29  16   338   176\n",
       "3  宜蘭縣  三星鄉  男  25~29  29   506   386\n",
       "4  宜蘭縣  三星鄉  女  30~34  30   669   523"
      ]
     },
     "execution_count": 15,
     "metadata": {},
     "output_type": "execute_result"
    }
   ],
   "source": [
    "df.head()"
   ]
  },
  {
   "cell_type": "markdown",
   "metadata": {},
   "source": [
    "### 依照不同縣市別去分群，將人數和申請金額以及繳納金額做總和 （金額的單位為：千元）"
   ]
  },
  {
   "cell_type": "code",
   "execution_count": 14,
   "metadata": {},
   "outputs": [
    {
     "data": {
      "text/html": [
       "<div>\n",
       "<style>\n",
       "    .dataframe thead tr:only-child th {\n",
       "        text-align: right;\n",
       "    }\n",
       "\n",
       "    .dataframe thead th {\n",
       "        text-align: left;\n",
       "    }\n",
       "\n",
       "    .dataframe tbody tr th {\n",
       "        vertical-align: top;\n",
       "    }\n",
       "</style>\n",
       "<table border=\"1\" class=\"dataframe\">\n",
       "  <thead>\n",
       "    <tr style=\"text-align: right;\">\n",
       "      <th></th>\n",
       "      <th>人數</th>\n",
       "      <th>申請金額</th>\n",
       "      <th>繳納金額</th>\n",
       "    </tr>\n",
       "    <tr>\n",
       "      <th>縣市別</th>\n",
       "      <th></th>\n",
       "      <th></th>\n",
       "      <th></th>\n",
       "    </tr>\n",
       "  </thead>\n",
       "  <tbody>\n",
       "    <tr>\n",
       "      <th>南投縣</th>\n",
       "      <td>8606</td>\n",
       "      <td>278624</td>\n",
       "      <td>154076</td>\n",
       "    </tr>\n",
       "    <tr>\n",
       "      <th>嘉義市</th>\n",
       "      <td>5063</td>\n",
       "      <td>144396</td>\n",
       "      <td>89986</td>\n",
       "    </tr>\n",
       "    <tr>\n",
       "      <th>嘉義縣</th>\n",
       "      <td>7816</td>\n",
       "      <td>236491</td>\n",
       "      <td>140154</td>\n",
       "    </tr>\n",
       "    <tr>\n",
       "      <th>基隆市</th>\n",
       "      <td>8139</td>\n",
       "      <td>215139</td>\n",
       "      <td>140168</td>\n",
       "    </tr>\n",
       "    <tr>\n",
       "      <th>宜蘭縣</th>\n",
       "      <td>6877</td>\n",
       "      <td>205117</td>\n",
       "      <td>125906</td>\n",
       "    </tr>\n",
       "    <tr>\n",
       "      <th>屏東縣</th>\n",
       "      <td>21688</td>\n",
       "      <td>634042</td>\n",
       "      <td>366942</td>\n",
       "    </tr>\n",
       "    <tr>\n",
       "      <th>彰化縣</th>\n",
       "      <td>13210</td>\n",
       "      <td>434328</td>\n",
       "      <td>251606</td>\n",
       "    </tr>\n",
       "    <tr>\n",
       "      <th>新北市</th>\n",
       "      <td>59663</td>\n",
       "      <td>1911838</td>\n",
       "      <td>1134955</td>\n",
       "    </tr>\n",
       "    <tr>\n",
       "      <th>新竹市</th>\n",
       "      <td>5264</td>\n",
       "      <td>162742</td>\n",
       "      <td>100511</td>\n",
       "    </tr>\n",
       "    <tr>\n",
       "      <th>新竹縣</th>\n",
       "      <td>6895</td>\n",
       "      <td>209037</td>\n",
       "      <td>124843</td>\n",
       "    </tr>\n",
       "    <tr>\n",
       "      <th>桃園市</th>\n",
       "      <td>41422</td>\n",
       "      <td>1291168</td>\n",
       "      <td>749376</td>\n",
       "    </tr>\n",
       "    <tr>\n",
       "      <th>澎湖縣</th>\n",
       "      <td>1286</td>\n",
       "      <td>39234</td>\n",
       "      <td>22719</td>\n",
       "    </tr>\n",
       "    <tr>\n",
       "      <th>臺中市</th>\n",
       "      <td>41151</td>\n",
       "      <td>1241787</td>\n",
       "      <td>724088</td>\n",
       "    </tr>\n",
       "    <tr>\n",
       "      <th>臺北市</th>\n",
       "      <td>27392</td>\n",
       "      <td>799326</td>\n",
       "      <td>516737</td>\n",
       "    </tr>\n",
       "    <tr>\n",
       "      <th>臺南市</th>\n",
       "      <td>31350</td>\n",
       "      <td>945762</td>\n",
       "      <td>544201</td>\n",
       "    </tr>\n",
       "    <tr>\n",
       "      <th>臺東縣</th>\n",
       "      <td>7188</td>\n",
       "      <td>220655</td>\n",
       "      <td>135941</td>\n",
       "    </tr>\n",
       "    <tr>\n",
       "      <th>花蓮縣</th>\n",
       "      <td>11211</td>\n",
       "      <td>326051</td>\n",
       "      <td>208430</td>\n",
       "    </tr>\n",
       "    <tr>\n",
       "      <th>苗栗縣</th>\n",
       "      <td>6903</td>\n",
       "      <td>227759</td>\n",
       "      <td>131697</td>\n",
       "    </tr>\n",
       "    <tr>\n",
       "      <th>連江縣</th>\n",
       "      <td>199</td>\n",
       "      <td>6526</td>\n",
       "      <td>4067</td>\n",
       "    </tr>\n",
       "    <tr>\n",
       "      <th>金門縣</th>\n",
       "      <td>1924</td>\n",
       "      <td>61832</td>\n",
       "      <td>36952</td>\n",
       "    </tr>\n",
       "    <tr>\n",
       "      <th>雲林縣</th>\n",
       "      <td>8955</td>\n",
       "      <td>285354</td>\n",
       "      <td>165568</td>\n",
       "    </tr>\n",
       "    <tr>\n",
       "      <th>高雄市</th>\n",
       "      <td>53797</td>\n",
       "      <td>1528457</td>\n",
       "      <td>879962</td>\n",
       "    </tr>\n",
       "  </tbody>\n",
       "</table>\n",
       "</div>"
      ],
      "text/plain": [
       "        人數     申請金額     繳納金額\n",
       "縣市別                         \n",
       "南投縣   8606   278624   154076\n",
       "嘉義市   5063   144396    89986\n",
       "嘉義縣   7816   236491   140154\n",
       "基隆市   8139   215139   140168\n",
       "宜蘭縣   6877   205117   125906\n",
       "屏東縣  21688   634042   366942\n",
       "彰化縣  13210   434328   251606\n",
       "新北市  59663  1911838  1134955\n",
       "新竹市   5264   162742   100511\n",
       "新竹縣   6895   209037   124843\n",
       "桃園市  41422  1291168   749376\n",
       "澎湖縣   1286    39234    22719\n",
       "臺中市  41151  1241787   724088\n",
       "臺北市  27392   799326   516737\n",
       "臺南市  31350   945762   544201\n",
       "臺東縣   7188   220655   135941\n",
       "花蓮縣  11211   326051   208430\n",
       "苗栗縣   6903   227759   131697\n",
       "連江縣    199     6526     4067\n",
       "金門縣   1924    61832    36952\n",
       "雲林縣   8955   285354   165568\n",
       "高雄市  53797  1528457   879962"
      ]
     },
     "execution_count": 14,
     "metadata": {},
     "output_type": "execute_result"
    }
   ],
   "source": [
    "grouped = df.groupby(\"縣市別\")\n",
    "grouped.sum()"
   ]
  },
  {
   "cell_type": "markdown",
   "metadata": {},
   "source": [
    "### 計算各縣市申請金額跟繳納金額的差異以及跟人口的比值"
   ]
  },
  {
   "cell_type": "code",
   "execution_count": 37,
   "metadata": {},
   "outputs": [
    {
     "data": {
      "text/plain": [
       "縣市別\n",
       "南投縣   -124548\n",
       "嘉義市    -54410\n",
       "嘉義縣    -96337\n",
       "基隆市    -74971\n",
       "宜蘭縣    -79211\n",
       "屏東縣   -267100\n",
       "彰化縣   -182722\n",
       "新北市   -776883\n",
       "新竹市    -62231\n",
       "新竹縣    -84194\n",
       "桃園市   -541792\n",
       "澎湖縣    -16515\n",
       "臺中市   -517699\n",
       "臺北市   -282589\n",
       "臺南市   -401561\n",
       "臺東縣    -84714\n",
       "花蓮縣   -117621\n",
       "苗栗縣    -96062\n",
       "連江縣     -2459\n",
       "金門縣    -24880\n",
       "雲林縣   -119786\n",
       "高雄市   -648495\n",
       "dtype: int64"
      ]
     },
     "execution_count": 37,
     "metadata": {},
     "output_type": "execute_result"
    }
   ],
   "source": [
    "group2 = grouped.sum()\n",
    "group2.繳納金額 - group2.申請金額"
   ]
  },
  {
   "cell_type": "markdown",
   "metadata": {},
   "source": [
    "若單純考慮此兩筆金額...健保虧很大"
   ]
  },
  {
   "cell_type": "code",
   "execution_count": 39,
   "metadata": {},
   "outputs": [
    {
     "data": {
      "text/plain": [
       "-4656780"
      ]
     },
     "execution_count": 39,
     "metadata": {},
     "output_type": "execute_result"
    }
   ],
   "source": [
    "sum(group2.繳納金額 - group2.申請金額)"
   ]
  },
  {
   "cell_type": "markdown",
   "metadata": {},
   "source": [
    "除以各縣市人口數，比例上來講南投縣比例最高，平均一個人欠繳給政府14000元的看醫生費用"
   ]
  },
  {
   "cell_type": "code",
   "execution_count": 33,
   "metadata": {},
   "outputs": [
    {
     "data": {
      "text/plain": [
       "縣市別\n",
       "南投縣    14.472229\n",
       "嘉義市    10.746593\n",
       "嘉義縣    12.325614\n",
       "基隆市     9.211328\n",
       "宜蘭縣    11.518249\n",
       "屏東縣    12.315566\n",
       "彰化縣    13.832097\n",
       "新北市    13.021186\n",
       "新竹市    11.821998\n",
       "新竹縣    12.210877\n",
       "桃園市    13.079813\n",
       "澎湖縣    12.842146\n",
       "臺中市    12.580472\n",
       "臺北市    10.316479\n",
       "臺南市    12.808963\n",
       "臺東縣    11.785476\n",
       "花蓮縣    10.491571\n",
       "苗栗縣    13.915979\n",
       "連江縣    12.356784\n",
       "金門縣    12.931393\n",
       "雲林縣    13.376438\n",
       "高雄市    12.054483\n",
       "dtype: float64"
      ]
     },
     "execution_count": 33,
     "metadata": {},
     "output_type": "execute_result"
    }
   ],
   "source": [
    "(-(group2.繳納金額 - group2.申請金額)) / group2.人數 "
   ]
  },
  {
   "cell_type": "markdown",
   "metadata": {},
   "source": [
    "### 各縣市的使用健保狀態折線圖"
   ]
  },
  {
   "cell_type": "code",
   "execution_count": 51,
   "metadata": {
    "scrolled": true
   },
   "outputs": [
    {
     "data": {
      "text/plain": [
       "<matplotlib.axes._subplots.AxesSubplot at 0x113fd7400>"
      ]
     },
     "execution_count": 51,
     "metadata": {},
     "output_type": "execute_result"
    },
    {
     "data": {
      "image/png": "[encoded data removed]",
      "text/plain": [
       "<matplotlib.figure.Figure at 0x113e21d68>"
      ]
     },
     "metadata": {},
     "output_type": "display_data"
    }
   ],
   "source": [
    "group2.plot.line()"
   ]
  },
  {
   "cell_type": "markdown",
   "metadata": {},
   "source": [
    "### 各縣市很明顯地，平均申請金額都大於繳納金額，看病的人多，醫生錢也拿很多，若有更多其他資料可以更深入探討。"
   ]
  }
 ],
 "metadata": {
  "kernelspec": {
   "display_name": "Python 3",
   "language": "python",
   "name": "python3"
  },
  "language_info": {
   "codemirror_mode": {
    "name": "ipython",
    "version": 3
   },
   "file_extension": ".py",
   "mimetype": "text/x-python",
   "name": "python",
   "nbconvert_exporter": "python",
   "pygments_lexer": "ipython3",
   "version": "3.6.1"
  }
 },
 "nbformat": 4,
 "nbformat_minor": 2
}
