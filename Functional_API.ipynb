{
  "nbformat": 4,
  "nbformat_minor": 0,
  "metadata": {
    "colab": {
      "name": "Functional_API.ipynb",
      "version": "0.3.2",
      "provenance": [],
      "collapsed_sections": []
    },
    "kernelspec": {
      "name": "python3",
      "display_name": "Python 3"
    }
  },
  "cells": [
    {
      "cell_type": "markdown",
      "metadata": {
        "id": "qcyZQVHS6_Lf",
        "colab_type": "text"
      },
      "source": [
        "###使用Functional API打造神經網路"
      ]
    },
    {
      "cell_type": "code",
      "metadata": {
        "id": "xHAnUm4562gD",
        "colab_type": "code",
        "colab": {}
      },
      "source": [
        "%matplotlib inline\n",
        "import matplotlib.pyplot as plt\n",
        "import numpy as np\n",
        "import pandas as pd "
      ],
      "execution_count": 0,
      "outputs": []
    },
    {
      "cell_type": "code",
      "metadata": {
        "id": "jbyYxFXC7AmR",
        "colab_type": "code",
        "colab": {
          "base_uri": "https://localhost:8080/",
          "height": 34
        },
        "outputId": "60aa73f1-42fb-4223-9f8e-2a06a3a218c9"
      },
      "source": [
        "# 建構神經網路用到 Keras functions\n",
        "from keras.models import Sequential\n",
        "from keras.layers import Dense, Activation\n",
        "from keras.optimizers import SGD\n",
        "\n",
        "#data\n",
        "from keras.datasets import mnist\n",
        "\n",
        "#keras\n",
        "from keras.utils import np_utils\n",
        "from keras.models import Model\n",
        "from keras.layers import Input\n",
        "\n",
        "# 建立分歧及合併結構\n",
        "from keras.layers import concatenate, add\n",
        "from keras.layers.core import Lambda\n",
        "from keras import backend as K"
      ],
      "execution_count": 2,
      "outputs": [
        {
          "output_type": "stream",
          "text": [
            "Using TensorFlow backend.\n"
          ],
          "name": "stderr"
        }
      ]
    },
    {
      "cell_type": "markdown",
      "metadata": {
        "id": "_b6oEGZc8gKa",
        "colab_type": "text"
      },
      "source": [
        "###讀入資料"
      ]
    },
    {
      "cell_type": "code",
      "metadata": {
        "id": "bjgiFGOL7-5A",
        "colab_type": "code",
        "colab": {
          "base_uri": "https://localhost:8080/",
          "height": 51
        },
        "outputId": "5135518a-b8fe-4d6b-b948-98bbfeadf8ba"
      },
      "source": [
        "(x_train0, y_train0), (x_test0, y_test0) = mnist.load_data()\n",
        "print(\" %d 個 訓練資料大小： %d x %d\" %x_train0.shape)\n",
        "print(\" %d 個 測試資料大小： %d x %d\" %x_test0.shape)"
      ],
      "execution_count": 6,
      "outputs": [
        {
          "output_type": "stream",
          "text": [
            " 60000 個 訓練資料大小： 28 x 28\n",
            " 10000 個 測試資料大小： 28 x 28\n"
          ],
          "name": "stdout"
        }
      ]
    },
    {
      "cell_type": "code",
      "metadata": {
        "id": "9XWqVyDd8qPc",
        "colab_type": "code",
        "colab": {}
      },
      "source": [
        "x_train = x_train0.reshape(60000, 784)\n",
        "x_test = x_test0.reshape(10000, 784)"
      ],
      "execution_count": 0,
      "outputs": []
    },
    {
      "cell_type": "code",
      "metadata": {
        "id": "1Sy9QkcZ9WfI",
        "colab_type": "code",
        "colab": {
          "base_uri": "https://localhost:8080/",
          "height": 34
        },
        "outputId": "b301d3dc-235c-4b2f-f136-cbc8187e39c9"
      },
      "source": [
        "x_train -= x_train.min()\n",
        "x_train = x_train/x_train.max()\n",
        "x_train.min(), x_train.max()"
      ],
      "execution_count": 10,
      "outputs": [
        {
          "output_type": "execute_result",
          "data": {
            "text/plain": [
              "(0.0, 1.0)"
            ]
          },
          "metadata": {
            "tags": []
          },
          "execution_count": 10
        }
      ]
    },
    {
      "cell_type": "code",
      "metadata": {
        "id": "U5uB-XpR8rJP",
        "colab_type": "code",
        "colab": {}
      },
      "source": [
        "y_train = np_utils.to_categorical(y_train0, 10)\n",
        "y_test = np_utils.to_categorical(y_test0, 10)"
      ],
      "execution_count": 0,
      "outputs": []
    },
    {
      "cell_type": "markdown",
      "metadata": {
        "id": "wb75vj-U-Bh6",
        "colab_type": "text"
      },
      "source": [
        "###階層圖設計\n",
        "\n",
        "---\n",
        "\n",
        "![flow](http://homepage.ntu.edu.tw/~r07228018/image/flow.png)"
      ]
    },
    {
      "cell_type": "code",
      "metadata": {
        "id": "sLdfCz9195Ag",
        "colab_type": "code",
        "colab": {}
      },
      "source": [
        "x = Input(shape=(784,))"
      ],
      "execution_count": 0,
      "outputs": []
    },
    {
      "cell_type": "code",
      "metadata": {
        "id": "ibPAmN81DCOK",
        "colab_type": "code",
        "colab": {}
      },
      "source": [
        "#階層一\n",
        "k1_1 = Dense(500, activation='relu')\n",
        "k1_2 = Dense(500, activation='relu')\n",
        "\n",
        "#階層二\n",
        "k2_1 = Dense(250, activation='sigmoid')\n",
        "k2_2 = Dense(250, activation='sigmoid')\n",
        "k2_3 = Dense(250, activation='sigmoid')\n",
        "k2_4 = Dense(250, activation='sigmoid')\n",
        "\n",
        "#階層三\n",
        "k3_1 = Dense(500, activation='relu')\n",
        "k3_2 = Dense(500, activation='relu')\n",
        "\n",
        "#階層四\n",
        "k4_1 = Dense(50, activation='sigmoid')\n",
        "\n",
        "#階層五\n",
        "k5_1 = Dense(10, activation='softmax')"
      ],
      "execution_count": 0,
      "outputs": []
    },
    {
      "cell_type": "markdown",
      "metadata": {
        "id": "qD1ocOOu-Ad-",
        "colab_type": "text"
      },
      "source": [
        ""
      ]
    },
    {
      "cell_type": "code",
      "metadata": {
        "id": "f46k_uFmExJm",
        "colab_type": "code",
        "colab": {}
      },
      "source": [
        "#hidden layer\n",
        "h11 = k1_1(x)\n",
        "h12 = k1_2(x)\n",
        "\n",
        "h21 = k2_1(h11)\n",
        "h22 = k2_2(h11)\n",
        "h23 = k2_3(h12)\n",
        "h24 = k2_4(h12)\n",
        "\n",
        "con31 = concatenate([h21, h22])\n",
        "con32 = concatenate([h23, h24])\n",
        "\n",
        "h31 = k3_1(con31)\n",
        "h32 = k3_2(con32)\n",
        "\n",
        "con41 = concatenate([h31,h32])\n",
        "\n",
        "h41 = k4_1 = (con41)\n",
        "\n",
        "y = k5_1(h41)"
      ],
      "execution_count": 0,
      "outputs": []
    },
    {
      "cell_type": "code",
      "metadata": {
        "id": "sNHqFGS9HEia",
        "colab_type": "code",
        "colab": {
          "base_uri": "https://localhost:8080/",
          "height": 669
        },
        "outputId": "2458763f-e28e-43b3-dfc5-32b5d27baee6"
      },
      "source": [
        "model = Model(x, y)\n",
        "model.summary()"
      ],
      "execution_count": 18,
      "outputs": [
        {
          "output_type": "stream",
          "text": [
            "__________________________________________________________________________________________________\n",
            "Layer (type)                    Output Shape         Param #     Connected to                     \n",
            "==================================================================================================\n",
            "input_2 (InputLayer)            (None, 784)          0                                            \n",
            "__________________________________________________________________________________________________\n",
            "dense_11 (Dense)                (None, 500)          392500      input_2[0][0]                    \n",
            "__________________________________________________________________________________________________\n",
            "dense_12 (Dense)                (None, 500)          392500      input_2[0][0]                    \n",
            "__________________________________________________________________________________________________\n",
            "dense_13 (Dense)                (None, 250)          125250      dense_11[0][0]                   \n",
            "__________________________________________________________________________________________________\n",
            "dense_14 (Dense)                (None, 250)          125250      dense_11[0][0]                   \n",
            "__________________________________________________________________________________________________\n",
            "dense_15 (Dense)                (None, 250)          125250      dense_12[0][0]                   \n",
            "__________________________________________________________________________________________________\n",
            "dense_16 (Dense)                (None, 250)          125250      dense_12[0][0]                   \n",
            "__________________________________________________________________________________________________\n",
            "concatenate_4 (Concatenate)     (None, 500)          0           dense_13[0][0]                   \n",
            "                                                                 dense_14[0][0]                   \n",
            "__________________________________________________________________________________________________\n",
            "concatenate_5 (Concatenate)     (None, 500)          0           dense_15[0][0]                   \n",
            "                                                                 dense_16[0][0]                   \n",
            "__________________________________________________________________________________________________\n",
            "dense_17 (Dense)                (None, 500)          250500      concatenate_4[0][0]              \n",
            "__________________________________________________________________________________________________\n",
            "dense_18 (Dense)                (None, 500)          250500      concatenate_5[0][0]              \n",
            "__________________________________________________________________________________________________\n",
            "concatenate_6 (Concatenate)     (None, 1000)         0           dense_17[0][0]                   \n",
            "                                                                 dense_18[0][0]                   \n",
            "__________________________________________________________________________________________________\n",
            "dense_20 (Dense)                (None, 10)           10010       concatenate_6[0][0]              \n",
            "==================================================================================================\n",
            "Total params: 1,797,010\n",
            "Trainable params: 1,797,010\n",
            "Non-trainable params: 0\n",
            "__________________________________________________________________________________________________\n"
          ],
          "name": "stdout"
        }
      ]
    },
    {
      "cell_type": "code",
      "metadata": {
        "id": "SS0Z7AVtHMYf",
        "colab_type": "code",
        "colab": {
          "base_uri": "https://localhost:8080/",
          "height": 1020
        },
        "outputId": "43a7e822-7a59-4b4b-b171-363f3aa48c90"
      },
      "source": [
        "model.compile(loss='mse', optimizer=SGD(lr=0.05), metrics=['accuracy'])\n",
        "model.fit(x_train, y_train, batch_size=250, epochs=25)"
      ],
      "execution_count": 19,
      "outputs": [
        {
          "output_type": "stream",
          "text": [
            "WARNING:tensorflow:From /usr/local/lib/python3.6/dist-packages/tensorflow/python/ops/math_ops.py:3066: to_int32 (from tensorflow.python.ops.math_ops) is deprecated and will be removed in a future version.\n",
            "Instructions for updating:\n",
            "Use tf.cast instead.\n",
            "Epoch 1/25\n",
            "60000/60000 [==============================] - 16s 271us/step - loss: 0.0900 - acc: 0.1387\n",
            "Epoch 2/25\n",
            "60000/60000 [==============================] - 15s 258us/step - loss: 0.0892 - acc: 0.1958\n",
            "Epoch 3/25\n",
            "60000/60000 [==============================] - 15s 256us/step - loss: 0.0886 - acc: 0.2368\n",
            "Epoch 4/25\n",
            "60000/60000 [==============================] - 15s 257us/step - loss: 0.0879 - acc: 0.2542\n",
            "Epoch 5/25\n",
            "60000/60000 [==============================] - 15s 256us/step - loss: 0.0872 - acc: 0.2646\n",
            "Epoch 6/25\n",
            "60000/60000 [==============================] - 15s 255us/step - loss: 0.0863 - acc: 0.2667\n",
            "Epoch 7/25\n",
            "60000/60000 [==============================] - 15s 254us/step - loss: 0.0853 - acc: 0.2806\n",
            "Epoch 8/25\n",
            "60000/60000 [==============================] - 15s 253us/step - loss: 0.0841 - acc: 0.2853\n",
            "Epoch 9/25\n",
            "60000/60000 [==============================] - 15s 253us/step - loss: 0.0826 - acc: 0.3009\n",
            "Epoch 10/25\n",
            "60000/60000 [==============================] - 15s 254us/step - loss: 0.0808 - acc: 0.3294\n",
            "Epoch 11/25\n",
            "60000/60000 [==============================] - 15s 254us/step - loss: 0.0788 - acc: 0.3701\n",
            "Epoch 12/25\n",
            "60000/60000 [==============================] - 15s 252us/step - loss: 0.0766 - acc: 0.4170\n",
            "Epoch 13/25\n",
            "60000/60000 [==============================] - 15s 256us/step - loss: 0.0743 - acc: 0.4549\n",
            "Epoch 14/25\n",
            "60000/60000 [==============================] - 15s 256us/step - loss: 0.0718 - acc: 0.4876\n",
            "Epoch 15/25\n",
            "60000/60000 [==============================] - 15s 255us/step - loss: 0.0694 - acc: 0.5157\n",
            "Epoch 16/25\n",
            "60000/60000 [==============================] - 15s 254us/step - loss: 0.0668 - acc: 0.5381\n",
            "Epoch 17/25\n",
            "60000/60000 [==============================] - 15s 256us/step - loss: 0.0641 - acc: 0.5653\n",
            "Epoch 18/25\n",
            "60000/60000 [==============================] - 15s 254us/step - loss: 0.0613 - acc: 0.5983\n",
            "Epoch 19/25\n",
            "60000/60000 [==============================] - 15s 257us/step - loss: 0.0585 - acc: 0.6319\n",
            "Epoch 20/25\n",
            "60000/60000 [==============================] - 15s 256us/step - loss: 0.0556 - acc: 0.6699\n",
            "Epoch 21/25\n",
            "60000/60000 [==============================] - 16s 264us/step - loss: 0.0528 - acc: 0.7008\n",
            "Epoch 22/25\n",
            "60000/60000 [==============================] - 16s 266us/step - loss: 0.0501 - acc: 0.7245\n",
            "Epoch 23/25\n",
            "60000/60000 [==============================] - 16s 270us/step - loss: 0.0474 - acc: 0.7421\n",
            "Epoch 24/25\n",
            "60000/60000 [==============================] - 16s 267us/step - loss: 0.0449 - acc: 0.7586\n",
            "Epoch 25/25\n",
            "60000/60000 [==============================] - 16s 261us/step - loss: 0.0424 - acc: 0.7740\n"
          ],
          "name": "stdout"
        },
        {
          "output_type": "execute_result",
          "data": {
            "text/plain": [
              "<keras.callbacks.History at 0x7f6f18cfc208>"
            ]
          },
          "metadata": {
            "tags": []
          },
          "execution_count": 19
        }
      ]
    },
    {
      "cell_type": "code",
      "metadata": {
        "id": "c72of-ZsHUV-",
        "colab_type": "code",
        "colab": {
          "base_uri": "https://localhost:8080/",
          "height": 68
        },
        "outputId": "f15719ec-3992-4eb1-e32f-362604a31fe2"
      },
      "source": [
        "score = model.evaluate(x_train, y_train, batch_size=10000) \n",
        "print(\"Loss: %f\" %score[0])\n",
        "print(\"準確率: %f\" %(score[1]*100))"
      ],
      "execution_count": 20,
      "outputs": [
        {
          "output_type": "stream",
          "text": [
            "60000/60000 [==============================] - 4s 66us/step\n",
            "Loss: 0.041253\n",
            "準確率: 78.476666\n"
          ],
          "name": "stdout"
        }
      ]
    },
    {
      "cell_type": "markdown",
      "metadata": {
        "id": "8MSswQ-2JffB",
        "colab_type": "text"
      },
      "source": [
        "###設計得不好，準確率只有78%"
      ]
    },
    {
      "cell_type": "code",
      "metadata": {
        "id": "uNbxxvLrJmyK",
        "colab_type": "code",
        "colab": {}
      },
      "source": [
        ""
      ],
      "execution_count": 0,
      "outputs": []
    }
  ]
}