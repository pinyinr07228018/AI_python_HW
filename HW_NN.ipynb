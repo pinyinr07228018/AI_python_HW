{
  "nbformat": 4,
  "nbformat_minor": 0,
  "metadata": {
    "colab": {
      "name": "HW_NN.ipynb",
      "version": "0.3.2",
      "provenance": []
    },
    "kernelspec": {
      "name": "python3",
      "display_name": "Python 3"
    }
  },
  "cells": [
    {
      "metadata": {
        "id": "ASah0nE_rna3",
        "colab_type": "text"
      },
      "cell_type": "markdown",
      "source": [
        "## 標準神經網路做手寫辨識提升準確率作業"
      ]
    },
    {
      "metadata": {
        "id": "5vH-1gVZrYfX",
        "colab_type": "code",
        "colab": {
          "base_uri": "https://localhost:8080/",
          "height": 34
        },
        "outputId": "71b6ce96-ad3f-456e-c7bb-1c496cd1b15b"
      },
      "cell_type": "code",
      "source": [
        "%matplotlib inline\n",
        "\n",
        "import numpy as np\n",
        "import matplotlib.pyplot as plt\n",
        "from keras.utils import np_utils"
      ],
      "execution_count": 1,
      "outputs": [
        {
          "output_type": "stream",
          "text": [
            "Using TensorFlow backend.\n"
          ],
          "name": "stderr"
        }
      ]
    },
    {
      "metadata": {
        "id": "vfJ-yQher2yn",
        "colab_type": "text"
      },
      "cell_type": "markdown",
      "source": [
        "讀入MNIST"
      ]
    },
    {
      "metadata": {
        "id": "sRUckBoer4OS",
        "colab_type": "code",
        "colab": {}
      },
      "cell_type": "code",
      "source": [
        "from keras.datasets import mnist"
      ],
      "execution_count": 0,
      "outputs": []
    },
    {
      "metadata": {
        "id": "AhqBoOshr_JZ",
        "colab_type": "code",
        "colab": {
          "base_uri": "https://localhost:8080/",
          "height": 491
        },
        "outputId": "a1be8ac7-8e90-4c57-dc36-fa576dcd9373"
      },
      "cell_type": "code",
      "source": [
        "(x_train, y_train), (x_test, y_test) = mnist.load_data()"
      ],
      "execution_count": 4,
      "outputs": [
        {
          "output_type": "stream",
          "text": [
            "Downloading data from https://s3.amazonaws.com/img-datasets/mnist.npz\n",
            "11493376/11490434 [==============================] - 4s 0us/step\n"
          ],
          "name": "stdout"
        }
      ]
    },
    {
      "metadata": {
        "id": "2iwwwHLfsHVG",
        "colab_type": "code",
        "colab": {}
      },
      "cell_type": "code",
      "source": [
        "x_train = x_train.reshape(60000,784)\n",
        "x_test = x_test.reshape(10000,784)"
      ],
      "execution_count": 0,
      "outputs": []
    },
    {
      "metadata": {
        "id": "vIaIA8LisanP",
        "colab_type": "code",
        "colab": {}
      },
      "cell_type": "code",
      "source": [
        "y_train = np_utils.to_categorical(y_train, 10)\n",
        "y_test = np_utils.to_categorical(y_test, 10)"
      ],
      "execution_count": 0,
      "outputs": []
    },
    {
      "metadata": {
        "id": "jnI_bAIlrmPD",
        "colab_type": "text"
      },
      "cell_type": "markdown",
      "source": [
        ""
      ]
    },
    {
      "metadata": {
        "id": "UPBWn0H2sfew",
        "colab_type": "code",
        "colab": {}
      },
      "cell_type": "code",
      "source": [
        "from keras.models import Sequential\n",
        "from keras.layers import Dense, Activation \n",
        "from keras.optimizers import SGD"
      ],
      "execution_count": 0,
      "outputs": []
    },
    {
      "metadata": {
        "id": "5HegUKDgsf9V",
        "colab_type": "code",
        "colab": {}
      },
      "cell_type": "code",
      "source": [
        "NNmodel = Sequential()"
      ],
      "execution_count": 0,
      "outputs": []
    },
    {
      "metadata": {
        "id": "PFtCEKu2sjR_",
        "colab_type": "code",
        "colab": {
          "base_uri": "https://localhost:8080/",
          "height": 108
        },
        "outputId": "9167de9e-2700-48fa-f24b-8f591fdd45e6"
      },
      "cell_type": "code",
      "source": [
        "NNmodel.add(Dense(600, input_dim=784))\n",
        "NNmodel.add(Activation('tanh'))\n",
        "NNmodel.add(Dense(300))\n",
        "NNmodel.add(Activation('tanh'))\n",
        "NNmodel.add(Dense(100))\n",
        "NNmodel.add(Activation('tanh'))"
      ],
      "execution_count": 9,
      "outputs": [
        {
          "output_type": "stream",
          "text": [
            "WARNING:tensorflow:From /usr/local/lib/python3.6/dist-packages/tensorflow/python/framework/op_def_library.py:263: colocate_with (from tensorflow.python.framework.ops) is deprecated and will be removed in a future version.\n",
            "Instructions for updating:\n",
            "Colocations handled automatically by placer.\n"
          ],
          "name": "stdout"
        }
      ]
    },
    {
      "metadata": {
        "id": "7pVg_-u_sm5H",
        "colab_type": "code",
        "colab": {}
      },
      "cell_type": "code",
      "source": [
        "NNmodel.add(Dense(10))\n",
        "NNmodel.add(Activation('softmax'))"
      ],
      "execution_count": 0,
      "outputs": []
    },
    {
      "metadata": {
        "id": "F1VqJthusreE",
        "colab_type": "code",
        "colab": {
          "base_uri": "https://localhost:8080/",
          "height": 408
        },
        "outputId": "5951b894-ca75-475e-8303-bed27fda9067"
      },
      "cell_type": "code",
      "source": [
        "NNmodel.compile(loss='mse', optimizer=SGD(lr=0.09), metrics=['accuracy'])\n",
        "NNmodel.summary()"
      ],
      "execution_count": 12,
      "outputs": [
        {
          "output_type": "stream",
          "text": [
            "_________________________________________________________________\n",
            "Layer (type)                 Output Shape              Param #   \n",
            "=================================================================\n",
            "dense_1 (Dense)              (None, 600)               471000    \n",
            "_________________________________________________________________\n",
            "activation_1 (Activation)    (None, 600)               0         \n",
            "_________________________________________________________________\n",
            "dense_2 (Dense)              (None, 300)               180300    \n",
            "_________________________________________________________________\n",
            "activation_2 (Activation)    (None, 300)               0         \n",
            "_________________________________________________________________\n",
            "dense_3 (Dense)              (None, 100)               30100     \n",
            "_________________________________________________________________\n",
            "activation_3 (Activation)    (None, 100)               0         \n",
            "_________________________________________________________________\n",
            "dense_4 (Dense)              (None, 10)                1010      \n",
            "_________________________________________________________________\n",
            "activation_4 (Activation)    (None, 10)                0         \n",
            "=================================================================\n",
            "Total params: 682,410\n",
            "Trainable params: 682,410\n",
            "Non-trainable params: 0\n",
            "_________________________________________________________________\n"
          ],
          "name": "stdout"
        }
      ]
    },
    {
      "metadata": {
        "id": "a2qIZiiHsuNw",
        "colab_type": "code",
        "colab": {
          "base_uri": "https://localhost:8080/",
          "height": 1125
        },
        "outputId": "29ca7af4-3b26-4872-fc7f-d5b7f9b38720"
      },
      "cell_type": "code",
      "source": [
        "NNmodel.fit(x_train, y_train, batch_size=100, epochs=30)"
      ],
      "execution_count": 13,
      "outputs": [
        {
          "output_type": "stream",
          "text": [
            "WARNING:tensorflow:From /usr/local/lib/python3.6/dist-packages/tensorflow/python/ops/math_ops.py:3066: to_int32 (from tensorflow.python.ops.math_ops) is deprecated and will be removed in a future version.\n",
            "Instructions for updating:\n",
            "Use tf.cast instead.\n",
            "Epoch 1/30\n",
            "60000/60000 [==============================] - 9s 146us/step - loss: 0.0362 - acc: 0.7590\n",
            "Epoch 2/30\n",
            "60000/60000 [==============================] - 8s 133us/step - loss: 0.0172 - acc: 0.8957\n",
            "Epoch 3/30\n",
            "60000/60000 [==============================] - 8s 133us/step - loss: 0.0139 - acc: 0.9145\n",
            "Epoch 4/30\n",
            "60000/60000 [==============================] - 8s 133us/step - loss: 0.0122 - acc: 0.9252\n",
            "Epoch 5/30\n",
            "60000/60000 [==============================] - 8s 133us/step - loss: 0.0110 - acc: 0.9328\n",
            "Epoch 6/30\n",
            "60000/60000 [==============================] - 8s 131us/step - loss: 0.0099 - acc: 0.9388\n",
            "Epoch 7/30\n",
            "60000/60000 [==============================] - 8s 133us/step - loss: 0.0092 - acc: 0.9436\n",
            "Epoch 8/30\n",
            "60000/60000 [==============================] - 8s 132us/step - loss: 0.0086 - acc: 0.9465\n",
            "Epoch 9/30\n",
            "60000/60000 [==============================] - 8s 131us/step - loss: 0.0081 - acc: 0.9501\n",
            "Epoch 10/30\n",
            "60000/60000 [==============================] - 8s 130us/step - loss: 0.0076 - acc: 0.9540\n",
            "Epoch 11/30\n",
            "60000/60000 [==============================] - 8s 133us/step - loss: 0.0073 - acc: 0.9559\n",
            "Epoch 12/30\n",
            "60000/60000 [==============================] - 8s 133us/step - loss: 0.0069 - acc: 0.9575\n",
            "Epoch 13/30\n",
            "60000/60000 [==============================] - 8s 140us/step - loss: 0.0067 - acc: 0.9593\n",
            "Epoch 14/30\n",
            "60000/60000 [==============================] - 8s 132us/step - loss: 0.0064 - acc: 0.9616\n",
            "Epoch 15/30\n",
            "60000/60000 [==============================] - 8s 131us/step - loss: 0.0061 - acc: 0.9636\n",
            "Epoch 16/30\n",
            "60000/60000 [==============================] - 8s 129us/step - loss: 0.0060 - acc: 0.9640\n",
            "Epoch 17/30\n",
            "60000/60000 [==============================] - 8s 130us/step - loss: 0.0057 - acc: 0.9657\n",
            "Epoch 18/30\n",
            "60000/60000 [==============================] - 8s 132us/step - loss: 0.0055 - acc: 0.9672\n",
            "Epoch 19/30\n",
            "60000/60000 [==============================] - 8s 129us/step - loss: 0.0053 - acc: 0.9687\n",
            "Epoch 20/30\n",
            "60000/60000 [==============================] - 8s 129us/step - loss: 0.0051 - acc: 0.9697\n",
            "Epoch 21/30\n",
            "60000/60000 [==============================] - 8s 132us/step - loss: 0.0049 - acc: 0.9707\n",
            "Epoch 22/30\n",
            "60000/60000 [==============================] - 8s 131us/step - loss: 0.0049 - acc: 0.9710\n",
            "Epoch 23/30\n",
            "60000/60000 [==============================] - 8s 133us/step - loss: 0.0047 - acc: 0.9724\n",
            "Epoch 24/30\n",
            "60000/60000 [==============================] - 8s 129us/step - loss: 0.0045 - acc: 0.9737\n",
            "Epoch 25/30\n",
            "60000/60000 [==============================] - 8s 129us/step - loss: 0.0046 - acc: 0.9729\n",
            "Epoch 26/30\n",
            "60000/60000 [==============================] - 8s 131us/step - loss: 0.0045 - acc: 0.9739\n",
            "Epoch 27/30\n",
            "60000/60000 [==============================] - 8s 128us/step - loss: 0.0042 - acc: 0.9755\n",
            "Epoch 28/30\n",
            "60000/60000 [==============================] - 8s 129us/step - loss: 0.0041 - acc: 0.9758\n",
            "Epoch 29/30\n",
            "60000/60000 [==============================] - 8s 130us/step - loss: 0.0039 - acc: 0.9777\n",
            "Epoch 30/30\n",
            "60000/60000 [==============================] - 8s 131us/step - loss: 0.0039 - acc: 0.9776\n"
          ],
          "name": "stdout"
        },
        {
          "output_type": "execute_result",
          "data": {
            "text/plain": [
              "<keras.callbacks.History at 0x7fda8d99ad30>"
            ]
          },
          "metadata": {
            "tags": []
          },
          "execution_count": 13
        }
      ]
    },
    {
      "metadata": {
        "id": "_qpQPxLNt4G_",
        "colab_type": "code",
        "colab": {
          "base_uri": "https://localhost:8080/",
          "height": 68
        },
        "outputId": "0dcf2cc8-1a11-45ee-e4c7-b78c29ee6381"
      },
      "cell_type": "code",
      "source": [
        "score = NNmodel.evaluate(x_test, y_test)\n",
        "print('loss:', score[0])\n",
        "print('正確率', score[1])"
      ],
      "execution_count": 14,
      "outputs": [
        {
          "output_type": "stream",
          "text": [
            "10000/10000 [==============================] - 1s 80us/step\n",
            "loss: 0.005877398982041632\n",
            "正確率 0.9628\n"
          ],
          "name": "stdout"
        }
      ]
    },
    {
      "metadata": {
        "id": "OhUQQ6L7t6o9",
        "colab_type": "code",
        "colab": {}
      },
      "cell_type": "code",
      "source": [
        "from ipywidgets import interact_manual"
      ],
      "execution_count": 0,
      "outputs": []
    },
    {
      "metadata": {
        "id": "lLlUdS4Dt-Nt",
        "colab_type": "code",
        "colab": {
          "base_uri": "https://localhost:8080/",
          "height": 34
        },
        "outputId": "7978501a-cdbb-446b-984c-84893c244045"
      },
      "cell_type": "code",
      "source": [
        "predict = NNmodel.predict_classes(x_test)\n",
        "predict"
      ],
      "execution_count": 16,
      "outputs": [
        {
          "output_type": "execute_result",
          "data": {
            "text/plain": [
              "array([7, 2, 1, ..., 4, 5, 6])"
            ]
          },
          "metadata": {
            "tags": []
          },
          "execution_count": 16
        }
      ]
    },
    {
      "metadata": {
        "id": "sh49IJglt__J",
        "colab_type": "code",
        "colab": {}
      },
      "cell_type": "code",
      "source": [
        "def test(測試編號):\n",
        "    plt.imshow(x_test[測試編號].reshape(28,28), cmap='Greys')\n",
        "    print('神經網路判斷為:', predict[測試編號])"
      ],
      "execution_count": 0,
      "outputs": []
    },
    {
      "metadata": {
        "id": "Cw9nLRA4uCL4",
        "colab_type": "code",
        "colab": {
          "base_uri": "https://localhost:8080/",
          "height": 286
        },
        "outputId": "c0ba2658-357d-4d06-dad6-da9807d20b43"
      },
      "cell_type": "code",
      "source": [
        "test(56)"
      ],
      "execution_count": 18,
      "outputs": [
        {
          "output_type": "stream",
          "text": [
            "神經網路判斷為: 4\n"
          ],
          "name": "stdout"
        },
        {
          "output_type": "display_data",
          "data": {
            "image/png": "[encoded data removed]",
            "text/plain": [
              "<Figure size 432x288 with 1 Axes>"
            ]
          },
          "metadata": {
            "tags": []
          }
        }
      ]
    },
    {
      "metadata": {
        "id": "jp_JI08ZuEr9",
        "colab_type": "code",
        "colab": {
          "base_uri": "https://localhost:8080/",
          "height": 286
        },
        "outputId": "c7732ad9-b131-4d9d-d8fc-0c2d48f72911"
      },
      "cell_type": "code",
      "source": [
        "test(666)"
      ],
      "execution_count": 19,
      "outputs": [
        {
          "output_type": "stream",
          "text": [
            "神經網路判斷為: 7\n"
          ],
          "name": "stdout"
        },
        {
          "output_type": "display_data",
          "data": {
            "image/png": "[encoded data removed]",
            "text/plain": [
              "<Figure size 432x288 with 1 Axes>"
            ]
          },
          "metadata": {
            "tags": []
          }
        }
      ]
    },
    {
      "metadata": {
        "id": "c0t3ZfBmuKe1",
        "colab_type": "code",
        "colab": {}
      },
      "cell_type": "code",
      "source": [
        ""
      ],
      "execution_count": 0,
      "outputs": []
    }
  ]
}